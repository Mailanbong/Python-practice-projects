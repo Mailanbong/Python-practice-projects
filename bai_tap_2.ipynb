{
 "cells": [
  {
   "cell_type": "code",
   "execution_count": 1,
   "metadata": {},
   "outputs": [
    {
     "name": "stdout",
     "output_type": "stream",
     "text": [
      "<class 'float'>\n"
     ]
    }
   ],
   "source": [
    "# viết chương trình con (hàm) sao cho \n",
    "# nhập một giá trị a bất kỳ thể hiện được dạng của biến"
   ]
  },
  {
   "cell_type": "code",
   "execution_count": 5,
   "metadata": {},
   "outputs": [
    {
     "data": {
      "text/plain": [
       "('Thanh', 'Hung', 'Son', 'Ken', 'Masu', 'Ben')"
      ]
     },
     "execution_count": 5,
     "metadata": {},
     "output_type": "execute_result"
    }
   ],
   "source": [
    "# viết chương trình con (hàm) sao cho\n",
    "# nhập 2 chuỗi tên cầu thủ sao cho cộng gộp 2 cuoi nay lại làm 1\n"
   ]
  },
  {
   "cell_type": "code",
   "execution_count": 6,
   "metadata": {},
   "outputs": [
    {
     "data": {
      "text/plain": [
       "10"
      ]
     },
     "execution_count": 6,
     "metadata": {},
     "output_type": "execute_result"
    }
   ],
   "source": [
    "# viết chương trình con (hàm) sao cho\n",
    "# nhập 2 số nếu nhập phép cộng thì a+b nếu nhập phép - thì a-b nếu nhập * thì a*b\n",
    "# nếu nhập mũ thì a^b nếu chia lấy phần dư thì a%b\n",
    "# kêt quả ra yêu cầu gán vào một giá trị vd c=ten_ham(...) (gợi ý dùng return)"
   ]
  },
  {
   "cell_type": "code",
   "execution_count": 8,
   "metadata": {},
   "outputs": [
    {
     "name": "stdout",
     "output_type": "stream",
     "text": [
      "15\n"
     ]
    }
   ],
   "source": [
    "# viết chương trình con (hàm) sao cho\n",
    "# sao cho khi nhập một giá trị vào sẽ là tổng các số nhỏ hơn số đó\n",
    "# vd nhap a=5 kq ra kq=1+2+3+4+5\n",
    "# dùng hàm return suất ra kết quả\n",
    "\n"
   ]
  },
  {
   "cell_type": "code",
   "execution_count": 11,
   "metadata": {},
   "outputs": [
    {
     "data": {
      "text/plain": [
       "{'Khoa': 1}"
      ]
     },
     "execution_count": 11,
     "metadata": {},
     "output_type": "execute_result"
    }
   ],
   "source": [
    "# viết chương trình con (hàm) sao cho\n",
    "# nhâp một giá trị vào dạng dict trống\n",
    "\n",
    "a={} #từ điển trống"
   ]
  }
 ],
 "metadata": {
  "kernelspec": {
   "display_name": "Python 3.10.6 64-bit",
   "language": "python",
   "name": "python3"
  },
  "language_info": {
   "codemirror_mode": {
    "name": "ipython",
    "version": 3
   },
   "file_extension": ".py",
   "mimetype": "text/x-python",
   "name": "python",
   "nbconvert_exporter": "python",
   "pygments_lexer": "ipython3",
   "version": "3.10.6"
  },
  "orig_nbformat": 4,
  "vscode": {
   "interpreter": {
    "hash": "27e0dda6400a8530452fad2c16ba19e9faabafb63921b6dec1259a43e08fe753"
   }
  }
 },
 "nbformat": 4,
 "nbformat_minor": 2
}
